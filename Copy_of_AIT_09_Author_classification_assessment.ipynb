{
  "cells": [
    {
      "cell_type": "markdown",
      "metadata": {
        "id": "_jiGtJu6u9ml"
      },
      "source": [
        "# Copyright\n",
        "\n",
        "<PRE>\n",
        "Copyright (c) 2023 Bálint Gyires-Tóth - All Rights Reserved\n",
        "You may use and modify this code for research and development purpuses.\n",
        "Use this code for educational purposes (self-paced or instructor led) without the permission of the author is prohibited.\n",
        "</PRE>"
      ]
    },
    {
      "cell_type": "markdown",
      "metadata": {
        "id": "oXyFC44jV-PP"
      },
      "source": [
        "# Author classification\n",
        "The task is to train a 1D CNN or an LSTM that is able to  classify text from two authors. The final model should be able to tell about a text with a given length (e.g. 60 characters) who wrote it.\n",
        "\n",
        "Please write the codes according to the following parts:"
      ]
    },
    {
      "cell_type": "markdown",
      "metadata": {
        "id": "jCnLoeGrHXsp"
      },
      "source": [
        "## Python module imports\n",
        "Import all Python modules that you would need during the Assignment."
      ]
    },
    {
      "cell_type": "code",
      "execution_count": 96,
      "metadata": {
        "id": "7itbFGt3HXVT"
      },
      "outputs": [],
      "source": [
        "import tensorflow as tf\n",
        "from tensorflow import keras\n",
        "from tensorflow.keras.models import Sequential\n",
        "from tensorflow.keras.layers import LSTM, Dense\n",
        "import numpy as np\n"
      ]
    },
    {
      "cell_type": "markdown",
      "metadata": {
        "id": "44j2W4VMSHIf"
      },
      "source": []
    },
    {
      "cell_type": "markdown",
      "metadata": {
        "id": "Hr617tEpHd8R"
      },
      "source": [
        "## Data acquisition\n",
        "Seek a possible dataset, you can use any source, e.g.\n",
        "* http://www.gutenberg.org/\n",
        "* https://www.kaggle.com/datasets\n",
        "* https://paperswithcode.com/datasets\n",
        "* if you would like to learn Hungarian, than e.g. https://mek.oszk.hu/\n",
        "\n",
        "You can download the text by hand (e.g. by copy-pasting some parts into txt files) or with Python."
      ]
    },
    {
      "cell_type": "code",
      "execution_count": 97,
      "metadata": {
        "id": "NgkdQxHqHdZB"
      },
      "outputs": [],
      "source": [
        "import requests\n",
        "\n",
        "url = \"https://gutenberg.org/cache/epub/73510/pg73510.txt\"\n",
        "response = requests.get(url)\n",
        "\n",
        "# Save the response content to a file\n",
        "with open(\"data1.txt\", \"wb\") as file:\n",
        "    file.write(response.content)\n",
        "\n",
        "url = \"https://gutenberg.org/cache/epub/73503/pg73503.txt\"\n",
        "response = requests.get(url)\n",
        "\n",
        "# Save the response content to a file\n",
        "with open(\"data2.txt\", \"wb\") as file:\n",
        "    file.write(response.content)\n"
      ]
    },
    {
      "cell_type": "markdown",
      "metadata": {
        "id": "U9Pmq91t3SRD"
      },
      "source": [
        "## Data analysis\n",
        "Count the number of characters from both authors and display them on a plot (e.g. Seaborn's countplot)."
      ]
    },
    {
      "cell_type": "code",
      "execution_count": 98,
      "metadata": {
        "id": "uRqGdn4F3Spk"
      },
      "outputs": [
        {
          "data": {
            "text/plain": [
              "<Axes: xlabel='text', ylabel='word_count'>"
            ]
          },
          "execution_count": 98,
          "metadata": {},
          "output_type": "execute_result"
        },
        {
          "data": {
            "image/png": "[encoded data removed]",
            "text/plain": [
              "<Figure size 640x480 with 1 Axes>"
            ]
          },
          "metadata": {},
          "output_type": "display_data"
        }
      ],
      "source": [
        "import pandas as pd\n",
        "import seaborn as sns\n",
        "content1 = \"\"\n",
        "content2 = \"\"\n",
        "\n",
        "\n",
        "# Read data1.txt\n",
        "with open(\"data1.txt\", \"r\", encoding=\"utf8\") as file:\n",
        "    content1 = file.read()\n",
        "    char_count1 = len(content1)\n",
        "\n",
        "# Read data2.txt\n",
        "with open(\"data2.txt\", \"r\", encoding=\"utf8\") as file:\n",
        "    content2 = file.read()\n",
        "    char_count2 = len(content2)\n",
        "\n",
        "\n",
        "\n",
        "# show word_count1 and word_count2 in a bar plot\n",
        "data = {\"word_count\": [char_count1, char_count2], \"text\": [\"The adventures of Captain O'Shea\", \"The National Magazine, Vol. XV\"]}\n",
        "df = pd.DataFrame(data)\n",
        "sns.barplot(x=\"text\", y=\"word_count\", data=df)\n",
        "\n"
      ]
    },
    {
      "cell_type": "markdown",
      "metadata": {
        "id": "cHyE_ndGIblJ"
      },
      "source": [
        "## Data loading, labeling and preprocessing\n",
        "Load the data and convert the characters into one-hot encodings. Then load the data into a 3D NumPy array, with a shape of\n",
        "\n",
        "* (batch, sequence_length, alphabet_length)\n",
        "\n",
        "where sequence_length=60, and alphabet_length equals to the number of unique characters in both datasets. The sequences should be cut out from the complete dataset by sliding window. You should add 0 and 1 labels to the sequences, according to the author.\n",
        "\n",
        "Later you may change sequence_length to achieve better results!"
      ]
    },
    {
      "cell_type": "code",
      "execution_count": 99,
      "metadata": {
        "id": "arooXt0WIb6x"
      },
      "outputs": [],
      "source": [
        "seq_length = 60\n",
        "alphabet = \"\".join(set(content1 + content2))\n",
        "alphabet = sorted(alphabet)\n",
        "alphabet_length = len(alphabet)\n",
        "\n",
        "# char to one hot encoding\n",
        "char_to_int = {char: i for i, char in enumerate(alphabet)}\n",
        "int_to_char = {i: char for i, char in enumerate(alphabet)}\n",
        "\n",
        "# go through the text with a sliding window of size seq_length\n",
        "# and create sequences of size seq_length \n",
        "\n",
        "batch = int((len(content1)+len(content2))/seq_length)\n"
      ]
    },
    {
      "cell_type": "code",
      "execution_count": 100,
      "metadata": {},
      "outputs": [],
      "source": [
        "# we store for each sequence which book it belongs to 0 or 1\n",
        "X = np.zeros((batch, seq_length, alphabet_length))\n",
        "Y = np.zeros((batch, 1))"
      ]
    },
    {
      "cell_type": "code",
      "execution_count": 101,
      "metadata": {},
      "outputs": [],
      "source": [
        "#cut off the last part of the text that is not a full sequence\n",
        "leftover1 = len(content1) % seq_length\n",
        "content1 = content1[:-leftover1]\n",
        "\n",
        "leftover2 = len(content2) % seq_length\n",
        "content2 = content2[:-leftover2]"
      ]
    },
    {
      "cell_type": "code",
      "execution_count": 102,
      "metadata": {},
      "outputs": [],
      "source": [
        "for i in range(0, len(content1) + len(content2) - seq_length, seq_length):\n",
        "    if(i + seq_length < len(content1)):\n",
        "        for j in range(seq_length):\n",
        "            X[i//seq_length, j, char_to_int[content1[i+j]]] = 1\n",
        "        Y[i//seq_length] = 0\n",
        "    else:\n",
        "        for j in range(seq_length):\n",
        "            X[i//seq_length, j, char_to_int[content2[i+j-len(content1)]]] = 1\n",
        "        Y[i//seq_length] = 1"
      ]
    },
    {
      "cell_type": "code",
      "execution_count": 103,
      "metadata": {},
      "outputs": [
        {
          "data": {
            "text/plain": [
              "(5104.0, 10303.0)"
            ]
          },
          "execution_count": 103,
          "metadata": {},
          "output_type": "execute_result"
        }
      ],
      "source": [
        "#count the number of 1s and 0s in Y\n",
        "np.sum(Y), len(Y) - np.sum(Y)"
      ]
    },
    {
      "cell_type": "code",
      "execution_count": 104,
      "metadata": {},
      "outputs": [],
      "source": [
        "for i in range(0 ,len(content1), seq_length):\n",
        "    seq = []\n",
        "    for char in content1[i: i + seq_length]:\n",
        "        one_hut = np.zeros((vocab_size))\n",
        "        one_hut[char_to_int[char]] = 1\n",
        "        seq.append(one_hut)\n",
        "    sequences.append(new_data)"
      ]
    },
    {
      "cell_type": "code",
      "execution_count": null,
      "metadata": {},
      "outputs": [],
      "source": []
    },
    {
      "cell_type": "code",
      "execution_count": 105,
      "metadata": {},
      "outputs": [],
      "source": [
        "for i in range(len(content1), -1 , seq_length):\n",
        "    seq = []\n",
        "    for char in content1[i: i + seq_length]:\n",
        "        one_hut = np.zeros((vocab_size))\n",
        "        one_hut[char_to_int[char]] = 1\n",
        "        seq.append(one_hut)\n",
        "    new_data = {1: seq}\n",
        "    sequences.append(new_data)"
      ]
    },
    {
      "cell_type": "code",
      "execution_count": null,
      "metadata": {},
      "outputs": [],
      "source": []
    },
    {
      "cell_type": "markdown",
      "metadata": {
        "id": "lL1Mc8ibHnep"
      },
      "source": [
        "## Data splitting\n",
        "Split the data into train, validate and test sets. Make"
      ]
    },
    {
      "cell_type": "code",
      "execution_count": 106,
      "metadata": {},
      "outputs": [],
      "source": [
        "#shouffle X and Y\n",
        "from sklearn.utils import shuffle\n",
        "X, Y = shuffle(X, Y)"
      ]
    },
    {
      "cell_type": "code",
      "execution_count": 107,
      "metadata": {
        "id": "ELyG9XFUHrkB"
      },
      "outputs": [
        {
          "name": "stdout",
          "output_type": "stream",
          "text": [
            "Train set shape: (11092, 60, 104) (11092, 1)\n",
            "Validation set shape: (2774, 60, 104) (2774, 1)\n",
            "Test set shape: (1541, 60, 104) (1541, 1)\n"
          ]
        }
      ],
      "source": [
        "from sklearn.model_selection import train_test_split\n",
        "\n",
        "# Splitting the data into train and test sets\n",
        "X_train, X_test, Y_train, Y_test = train_test_split(X, Y, test_size=0.1, random_state=42)\n",
        "\n",
        "# Splitting the train set into train and validation sets\n",
        "X_train, X_val, Y_train, Y_val = train_test_split(X_train, Y_train, test_size=0.2, random_state=42)\n",
        "\n",
        "# Printing the shapes of the resulting sets\n",
        "print(\"Train set shape:\", X_train.shape, Y_train.shape)\n",
        "print(\"Validation set shape:\", X_val.shape, Y_val.shape)\n",
        "print(\"Test set shape:\", X_test.shape, Y_test.shape)\n"
      ]
    },
    {
      "cell_type": "markdown",
      "metadata": {
        "id": "hA8U9tr7HrNQ"
      },
      "source": [
        "## Model definition\n",
        "Define a 1D CNN or an LSTM for the task. Compile the model with the correct loss function."
      ]
    },
    {
      "cell_type": "code",
      "execution_count": 116,
      "metadata": {
        "id": "BT1V1s4kHuUe"
      },
      "outputs": [],
      "source": [
        "model = Sequential()\n",
        "model.add(LSTM(64, input_shape=(seq_length, alphabet_length)))\n",
        "model.add(Dense(1, activation=\"sigmoid\"))\n"
      ]
    },
    {
      "cell_type": "markdown",
      "metadata": {
        "id": "hWFb-nAMHuAI"
      },
      "source": [
        "## Model training\n",
        "Train the model and apply early stopping."
      ]
    },
    {
      "cell_type": "code",
      "execution_count": 117,
      "metadata": {
        "id": "dvgKjqp3Hwkp"
      },
      "outputs": [],
      "source": [
        "from keras.callbacks import EarlyStopping\n",
        "\n",
        "# Compile the model\n",
        "model.compile(optimizer='adam', loss='binary_crossentropy', metrics=['accuracy'])\n",
        "\n",
        "# Define early stopping callback\n",
        "early_stopping = EarlyStopping(patience=3, monitor='val_loss', restore_best_weights=True)"
      ]
    },
    {
      "cell_type": "code",
      "execution_count": 118,
      "metadata": {},
      "outputs": [
        {
          "name": "stdout",
          "output_type": "stream",
          "text": [
            "Epoch 1/10\n",
            "347/347 [==============================] - 9s 20ms/step - loss: 0.5579 - accuracy: 0.7185 - val_loss: 0.4919 - val_accuracy: 0.7520\n",
            "Epoch 2/10\n",
            "347/347 [==============================] - 7s 19ms/step - loss: 0.4730 - accuracy: 0.7734 - val_loss: 0.4483 - val_accuracy: 0.7653\n",
            "Epoch 3/10\n",
            "347/347 [==============================] - 7s 19ms/step - loss: 0.4462 - accuracy: 0.7871 - val_loss: 0.4417 - val_accuracy: 0.7776\n",
            "Epoch 4/10\n",
            "347/347 [==============================] - 7s 19ms/step - loss: 0.4460 - accuracy: 0.7841 - val_loss: 0.4389 - val_accuracy: 0.7830\n",
            "Epoch 5/10\n",
            "347/347 [==============================] - 7s 19ms/step - loss: 0.4444 - accuracy: 0.7888 - val_loss: 0.4414 - val_accuracy: 0.7668\n",
            "Epoch 6/10\n",
            "347/347 [==============================] - 7s 19ms/step - loss: 0.4338 - accuracy: 0.7924 - val_loss: 0.4231 - val_accuracy: 0.7913\n",
            "Epoch 7/10\n",
            "347/347 [==============================] - 7s 19ms/step - loss: 0.4224 - accuracy: 0.7968 - val_loss: 0.4201 - val_accuracy: 0.7934\n",
            "Epoch 8/10\n",
            "347/347 [==============================] - 7s 19ms/step - loss: 0.4209 - accuracy: 0.7949 - val_loss: 0.4036 - val_accuracy: 0.7956\n",
            "Epoch 9/10\n",
            "347/347 [==============================] - 6s 19ms/step - loss: 0.4047 - accuracy: 0.8072 - val_loss: 0.4224 - val_accuracy: 0.7913\n",
            "Epoch 10/10\n",
            "347/347 [==============================] - 7s 19ms/step - loss: 0.3983 - accuracy: 0.8108 - val_loss: 0.4144 - val_accuracy: 0.7934\n"
          ]
        }
      ],
      "source": [
        "# Train the model with early stopping\n",
        "history = model.fit(X_train, Y_train, validation_data=(X_val, Y_val), epochs=10, batch_size=32, callbacks=[early_stopping])"
      ]
    },
    {
      "cell_type": "markdown",
      "metadata": {},
      "source": []
    },
    {
      "cell_type": "markdown",
      "metadata": {
        "id": "0omw2XzSHwOo"
      },
      "source": [
        "## Evaluation on test data\n",
        "Evaluate the model on the test data in terms of loss and accuracy."
      ]
    },
    {
      "cell_type": "code",
      "execution_count": 119,
      "metadata": {
        "id": "4bF3dQA1Hv_R"
      },
      "outputs": [
        {
          "name": "stdout",
          "output_type": "stream",
          "text": [
            "49/49 [==============================] - 1s 8ms/step - loss: 0.4420 - accuracy: 0.7781\n",
            "Loss:  0.44201770424842834\n",
            "Accuracy:  0.7780662178993225\n"
          ]
        }
      ],
      "source": [
        "model.compile(optimizer='adam', loss='binary_crossentropy', metrics=['accuracy'])\n",
        "evaluation = model.evaluate(X_test, Y_test)\n",
        "print(\"Loss: \", evaluation[0])\n",
        "print(\"Accuracy: \", evaluation[1])\n"
      ]
    },
    {
      "cell_type": "markdown",
      "metadata": {
        "id": "4Y73Q-h5Hz1r"
      },
      "source": [
        "## Confusion matrix\n",
        "Calculate and display the confusion matrix."
      ]
    },
    {
      "cell_type": "code",
      "execution_count": 120,
      "metadata": {
        "id": "cW8zZi1uJm2B"
      },
      "outputs": [
        {
          "name": "stdout",
          "output_type": "stream",
          "text": [
            "49/49 [==============================] - 1s 7ms/step\n"
          ]
        },
        {
          "data": {
            "text/plain": [
              "<Axes: >"
            ]
          },
          "execution_count": 120,
          "metadata": {},
          "output_type": "execute_result"
        },
        {
          "data": {
            "image/png": "[encoded data removed]",
            "text/plain": [
              "<Figure size 640x480 with 2 Axes>"
            ]
          },
          "metadata": {},
          "output_type": "display_data"
        }
      ],
      "source": [
        "import numpy as np\n",
        "from sklearn.metrics import confusion_matrix\n",
        "\n",
        "preds = model.predict(X_test)\n",
        "\n",
        "# Convert the predictions to binary\n",
        "preds = np.round(preds)\n",
        "\n",
        "# Calculate the confusion matrix\n",
        "cm = confusion_matrix(Y_test, preds)\n",
        "\n",
        "#plot with seaborn\n",
        "sns.heatmap(cm, annot=True, fmt=\"d\")"
      ]
    },
    {
      "cell_type": "code",
      "execution_count": null,
      "metadata": {},
      "outputs": [],
      "source": []
    }
  ],
  "metadata": {
    "colab": {
      "provenance": []
    },
    "kernelspec": {
      "display_name": "Python 3",
      "language": "python",
      "name": "python3"
    },
    "language_info": {
      "codemirror_mode": {
        "name": "ipython",
        "version": 3
      },
      "file_extension": ".py",
      "mimetype": "text/x-python",
      "name": "python",
      "nbconvert_exporter": "python",
      "pygments_lexer": "ipython3",
      "version": "3.10.4"
    }
  },
  "nbformat": 4,
  "nbformat_minor": 0
}
